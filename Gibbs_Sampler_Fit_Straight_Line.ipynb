{
  "nbformat": 4,
  "nbformat_minor": 0,
  "metadata": {
    "colab": {
      "name": "Gibbs_Sampler_Fit_Straight_Line.ipynb",
      "provenance": [],
      "authorship_tag": "ABX9TyNrJz4dxoQFgUOqjik2TxPN",
      "include_colab_link": true
    },
    "kernelspec": {
      "name": "python3",
      "display_name": "Python 3"
    }
  },
  "cells": [
    {
      "cell_type": "markdown",
      "metadata": {
        "id": "view-in-github",
        "colab_type": "text"
      },
      "source": [
        "<a href=\"https://colab.research.google.com/github/AnandKhandekar/Gibbs-Sampling--Straight-Line/blob/master/Gibbs_Sampler_Fit_Straight_Line.ipynb\" target=\"_parent\"><img src=\"https://colab.research.google.com/assets/colab-badge.svg\" alt=\"Open In Colab\"/></a>"
      ]
    },
    {
      "cell_type": "markdown",
      "metadata": {
        "id": "HnfyD8f_4FXB",
        "colab_type": "text"
      },
      "source": [
        "https://accarnall.github.io/gibbs_sampling_straight_line/\n",
        "\n",
        "This is the github page referred to for generating Samples to Fit a straight Line using GIBB's Sampling\n"
      ]
    },
    {
      "cell_type": "code",
      "metadata": {
        "id": "jVan7f3i37mO",
        "colab_type": "code",
        "colab": {}
      },
      "source": [
        "import numpy as np\n",
        "import matplotlib.pyplot as plt\n",
        "%matplotlib inline\n"
      ],
      "execution_count": 0,
      "outputs": []
    },
    {
      "cell_type": "code",
      "metadata": {
        "id": "2OBGX1C_6MMJ",
        "colab_type": "code",
        "colab": {}
      },
      "source": [
        "error_floor = 0.25    # Set the minimum error for each measurement.\n",
        "\n",
        "m=1\n",
        "c=5\n",
        "\n",
        "x_vals = np.arange(1, 11).astype(float)   #[ 1.  2.  3.  4.  5.  6.  7.  8.  9. 10.]\n",
        "y_vals = m*x_vals + c          #[ 6.  7.  8.  9. 10. 11. 12. 13. 14. 15.]\n",
        "\n",
        "y_errs = 1. + np.random.randn(10)**2\n",
        "y_vals += y_errs*np.random.randn(10)\n",
        "\n",
        "x = np.arange(0, 11, 0.01) # creates x.shape(1100,) values of x between 0 and 11 at equal intervals 0.01"
      ],
      "execution_count": 0,
      "outputs": []
    },
    {
      "cell_type": "code",
      "metadata": {
        "id": "CfyAnRT66e1N",
        "colab_type": "code",
        "colab": {
          "base_uri": "https://localhost:8080/",
          "height": 487
        },
        "outputId": "b73539cb-d3bc-4407-e4ef-6971bf4eb187"
      },
      "source": [
        "# Plot the data\n",
        "plt.figure(figsize=(10, 8))\n",
        "plt.xlim(0, 11)\n",
        "plt.ylim(0, 25)\n",
        "plt.plot(x, m*x + c, color=\"black\")\n",
        "plt.errorbar(x_vals, y_vals, y_errs, ls=\"\", capsize=5, color=\"red\", lw=1)\n",
        "plt.scatter(x_vals, y_vals, color=\"blue\", lw=1, edgecolor=\"black\", zorder=10, s=50)\n",
        "plt.show()"
      ],
      "execution_count": 19,
      "outputs": [
        {
          "output_type": "display_data",
          "data": {
            "image/png": "[encoded data removed]",
            "text/plain": [
              "<Figure size 720x576 with 1 Axes>"
            ]
          },
          "metadata": {
            "tags": [],
            "needs_background": "light"
          }
        }
      ]
    },
    {
      "cell_type": "markdown",
      "metadata": {
        "id": "8sLenLUt-hLB",
        "colab_type": "text"
      },
      "source": [
        "> Now imagine we have no knowledge of the input  m  and  c  values, only the blue mock data points we randomly generated. How would we go about fitting a straight line model  y=mx+c  to these data with Gibbs sampling?"
      ]
    },
    {
      "cell_type": "markdown",
      "metadata": {
        "id": "DzHzD9iEF9k5",
        "colab_type": "text"
      },
      "source": [
        "#Setting up our model\n",
        "First things first let's think about what we want to know. We're interested in the posterior distributions for our model parameters,  m  and  c , given the data,  {yi} , along with the corresponding  x  values,  {xi}  and uncertainties  {σi} . This can be written  P(m, c | {yi}) , and can be expanded using Bayes equation to give\n",
        "* $P(m,\\ c\\ |\\ \\{y_i\\}) = \\dfrac{P(\\{y_i\\}|\\ m,\\ c)\\ P(m,\\ c)}{P(\\{y_i\\})}$\n",
        "\n",
        "We don't need the normalisation of this distribution to be able to sample from it, just the dependencies on our model parameters. Therefore, since our  {yi}  are fixed, we can drop the denominator to give:\n",
        "* $P(m,\\ c\\ |\\ \\{y_i\\}) \\propto P(\\{y_i\\}|\\ m,\\ c)\\ P(m,\\ c)$\n",
        "\n",
        "Our uncertainties are Gaussian, so we can write down our likelihood function\n",
        "\n",
        "* $P(\\{y_i\\}|\\ m,\\ c) = \\prod_i \\dfrac{1}{\\sqrt{2\\pi\\sigma_i^2}}\\rm{exp}\\bigg( -\\dfrac{(y_i - mx_i - c)^2}{2\\sigma_i^2} \\bigg)$\n",
        "\n",
        "We also need to decide on a prior for  m  and  c . In this instance we'll just use uniform priors for simplicity, so\n",
        "\n",
        "* $P(m,\\ c) \\propto 1$\n",
        "\n",
        "We can now write our posterior distribution (remembering that our  σi  are fixed, so we can drop the prefactor on the likelihood)\n",
        "\n",
        "* $P(m,\\ c\\ |\\ \\{y_i\\}) \\propto \\rm{exp}\\bigg( -\\sum_i \\dfrac{(y_i - mx_i - c)^2}{2\\sigma_i^2} \\bigg)$\n",
        "\n",
        "ormally we'd just throw this into a MCMC routine to obtain samples, however in this case we'll use Gibbs sampling instead."
      ]
    },
    {
      "cell_type": "markdown",
      "metadata": {
        "id": "nOlpK3-KHW7S",
        "colab_type": "text"
      },
      "source": [
        "#Setting up our Gibbs sampler\n",
        "To obtain samples from the joint distribution of our model parameters given our data, Gibbs sampling relies on sampling from the conditional distribution for each parameter in turn. In this case these conditional distributions are  $P(m | c, {y_i}) \\ and\\  P(c | m, {y_i}) $\n",
        "\n",
        "This can be useful when it is very difficult or impossible to sample from the joint distribution of all model parameters for some reason, e.g. when there are a very large number of them. Most of the time this is only useful if you can write down the conditional distributions in a form which is easy to directly sample from without rejection, e.g. a Gaussian distribution.\n",
        "\n",
        "First things first we need to write down our conditional distributions. We do this by treating all other model parameters as fixed. We'll continue dropping any constant factors, meaning we can get rid of any terms which don't contain the parameter we're interested in. Let's start off with  m :\n",
        "\n",
        "* $P(m\\ |\\ c,\\ \\{y_i\\}) \\propto \\rm{exp}\\bigg( -\\sum_i \\dfrac{y_i^2 + m^2 x_i^2 + c^2 + 2mcx_i - 2mx_iy_i - 2cy_i}{2\\sigma_i^2} \\bigg) \\propto \\rm{exp}\\bigg( -\\sum_i \\dfrac{m^2 x_i^2 + 2mcx_i - 2mx_iy_i}{2\\sigma_i^2} \\bigg)$\n",
        "\n",
        "We can get this into the form of a Gaussian by completing the square inside the exponential to turn our expression of the form  $am^2+bm$  into one of the form  $a(m−h)^2$ . The form of h is a standard result: $ h=\\frac{−b}{2a}$. Doing this conversion results in \n",
        "* $h = \\dfrac{\\sum_i \\bigg(\\dfrac{x_i y_i}{\\sigma_i^2}\\bigg) - c \\sum_i \\bigg(\\dfrac{x_i}{\\sigma_i^2}\\bigg)}{\\sum_i \\bigg(\\dfrac{x_i^2}{\\sigma_i^2}\\bigg)}$\n",
        "\n",
        "and a probability distribution of the form\n",
        "\n",
        "* $P(m\\ |\\ c,\\ \\{y_i\\}) \\propto \\rm{exp}\\Bigg( -\\dfrac{1}{2} \\sum_i \\bigg(\\dfrac{x_i^2}{\\sigma_i^2}\\bigg) (m - h)^2 \\Bigg)$\n",
        "\n",
        "This is a Gaussian with mean,  $μ_m=h$  and standard deviation, $\\sigma_m = \\bigg(\\sum_i\\dfrac{x_i^2}{\\sigma_i^2}\\bigg)^{-\\dfrac{1}{2}}$\n",
        "\n",
        "This is very easy to sample from!\n",
        "\n",
        "*  $\\mu_c = \\dfrac{\\sum_i \\bigg(\\dfrac{y_i}{\\sigma_i^2}\\bigg) - m \\sum_i \\bigg(\\dfrac{x_i}{\\sigma_i^2}\\bigg)}{\\sum_i \\bigg(\\dfrac{1}{\\sigma_i^2}\\bigg)}\\ \\ \\ \\ \\ \\ \\ \\ \\ \\ \\ \\ \\ \\ \\ \\ \\ \\ \\ \\ \\sigma_c = \\bigg(\\sum_i\\dfrac{1}{\\sigma_i^2}\\bigg)^{-\\dfrac{1}{2}}$\n",
        "\n",
        "We now have conditional distributions for each of our model parameters, both of which are Gaussians. Now we can code up our Gibbs sampler.\n",
        "\n"
      ]
    },
    {
      "cell_type": "markdown",
      "metadata": {
        "id": "X9PQ7I5-gNPg",
        "colab_type": "text"
      },
      "source": [
        "***\n",
        "# CODE for the GIBB's Sampler\n",
        "\n",
        "first let's write two functions to sample from each of our conditional distributions. Each function takes a vector, param, which contains the current values of both parameters."
      ]
    },
    {
      "cell_type": "code",
      "metadata": {
        "id": "iI0s5_iw-Iyl",
        "colab_type": "code",
        "colab": {}
      },
      "source": [
        "def sample_m(param):\n",
        "\n",
        "    c=param[1]\n",
        "\n",
        "    mu_m_num = (np.sum(y_vals*x_vals/y_errs**2)- c* np.sum(x_vals/y_errs**2))\n",
        "    mu_m_den = np.sum(x_vals**2/y_errs**2)\n",
        "\n",
        "    mu_m = mu_m_num/mu_m_den\n",
        "    sigma_m = 1./np.sqrt(mu_m_den**2)\n",
        "\n",
        "    return sigma_m*np.random.randn() + mu_m"
      ],
      "execution_count": 0,
      "outputs": []
    },
    {
      "cell_type": "code",
      "metadata": {
        "id": "wLcOW_yvoglG",
        "colab_type": "code",
        "colab": {}
      },
      "source": [
        "def sample_c(param):\n",
        "\n",
        "    m = param[0]\n",
        "\n",
        "    mu_c_num = np.sum(y_vals/y_errs**2) - m*np.sum(x_vals/y_errs**2)\n",
        "    mu_c_den = np.sum(1./y_errs**2)\n",
        "\n",
        "    mu_c = mu_c_num/mu_c_den\n",
        "    sigma_c = 1./np.sqrt(mu_c_den)\n",
        "\n",
        "    return sigma_c*np.random.randn() + mu_c\n"
      ],
      "execution_count": 0,
      "outputs": []
    },
    {
      "cell_type": "markdown",
      "metadata": {
        "id": "XnTtXYnUpTRh",
        "colab_type": "text"
      },
      "source": [
        "Now we're ready to sample from our joint distribution by sampling from our conditional distributions. We'll sample from each conditional distribution in turn and call this one full step of our walker. In order to increase our efficiency we'll randomise the order in which we sample our conditional distributions in each step.\n",
        "\n"
      ]
    },
    {
      "cell_type": "code",
      "metadata": {
        "id": "e-8HEzgDirAk",
        "colab_type": "code",
        "colab": {}
      },
      "source": [
        "n_samples = 11000       # Number of steps we will take\n",
        "param = np.zeros(2)     # Starting parameter values\n",
        "\n",
        "# Vectors to hold our samples\n",
        "m_samp = np.zeros(n_samples)\n",
        "c_samp = np.zeros(n_samples)\n",
        "\n",
        "for i in range(1, n_samples):\n",
        "    param_order = np.random.choice(np.arange(2), 2, replace=False)\n",
        "\n",
        "    for k in param_order:\n",
        "        if k == 0:\n",
        "            m_samp[i] = sample_m(param)\n",
        "            param[0] = np.copy(m_samp[i])\n",
        "\n",
        "        else:\n",
        "            c_samp[i] = sample_c(param)\n",
        "            param[1] = np.copy(c_samp[i])"
      ],
      "execution_count": 0,
      "outputs": []
    },
    {
      "cell_type": "markdown",
      "metadata": {
        "id": "H-28-76Aqhjp",
        "colab_type": "text"
      },
      "source": [
        "Let's take a look at how we did. First we'll plot the trace of the walker. The starting point is shown in blue and the true values in green."
      ]
    },
    {
      "cell_type": "code",
      "metadata": {
        "id": "E7QpMdEfqicG",
        "colab_type": "code",
        "colab": {
          "base_uri": "https://localhost:8080/",
          "height": 279
        },
        "outputId": "ec3af1c9-f3f7-4af5-fc8c-532937d7c048"
      },
      "source": [
        "plt.figure()\n",
        "plt.scatter(m_samp[0], c_samp[0], color=\"blue\")\n",
        "plt.scatter(m, c, color=\"green\")\n",
        "plt.plot(m_samp, c_samp, color=\"gray\", alpha=0.5, lw=0.5)\n",
        "plt.xlabel(\"$m$\")\n",
        "plt.ylabel(\"$c$\")\n",
        "plt.show()"
      ],
      "execution_count": 25,
      "outputs": [
        {
          "output_type": "display_data",
          "data": {
            "image/png": "[encoded data removed]",
            "text/plain": [
              "<Figure size 432x288 with 1 Axes>"
            ]
          },
          "metadata": {
            "tags": [],
            "needs_background": "light"
          }
        }
      ]
    },
    {
      "cell_type": "markdown",
      "metadata": {
        "id": "eBCoNDgDrK-9",
        "colab_type": "text"
      },
      "source": [
        "Now the individual parameter posterior distributions, discounting the first thousand steps as a burn-in period."
      ]
    },
    {
      "cell_type": "code",
      "metadata": {
        "id": "iYkY6qSIqmDS",
        "colab_type": "code",
        "colab": {
          "base_uri": "https://localhost:8080/",
          "height": 513
        },
        "outputId": "2ad621fa-ff7b-4d1c-9a38-de8241db1f30"
      },
      "source": [
        "m_samp_burn = m_samp[1000:]\n",
        "c_samp_burn = c_samp[1000:]\n",
        "\n",
        "plt.figure()\n",
        "plt.hist(m_samp_burn, bins=50)\n",
        "plt.axvline(m, color=\"red\", zorder=10)\n",
        "plt.show()\n",
        "\n",
        "plt.figure()\n",
        "plt.hist(c_samp_burn, bins=50)\n",
        "plt.axvline(c, color=\"green\", zorder=10)\n",
        "plt.show()"
      ],
      "execution_count": 27,
      "outputs": [
        {
          "output_type": "display_data",
          "data": {
            "image/png": "[encoded data removed]",
            "text/plain": [
              "<Figure size 432x288 with 1 Axes>"
            ]
          },
          "metadata": {
            "tags": [],
            "needs_background": "light"
          }
        },
        {
          "output_type": "display_data",
          "data": {
            "image/png": "[encoded data removed]",
            "text/plain": [
              "<Figure size 432x288 with 1 Axes>"
            ]
          },
          "metadata": {
            "tags": [],
            "needs_background": "light"
          }
        }
      ]
    },
    {
      "cell_type": "markdown",
      "metadata": {
        "id": "lbdzwpPAr0HO",
        "colab_type": "text"
      },
      "source": [
        "Finally let's look at the 1-sigma range for the posterior distribution of the model we fitted."
      ]
    },
    {
      "cell_type": "code",
      "metadata": {
        "id": "FxHmR5gcrVNo",
        "colab_type": "code",
        "colab": {
          "base_uri": "https://localhost:8080/",
          "height": 378
        },
        "outputId": "c5908f5c-fa18-4923-c42b-2d9ee8247419"
      },
      "source": [
        "x = np.arange(0, 10, 0.01)\n",
        "\n",
        "y_posterior = np.expand_dims(x, 1)*m_samp_burn + c_samp_burn\n",
        "\n",
        "y_quantiles = np.percentile(y_posterior, (16, 84), axis=1)\n",
        "\n",
        "plt.figure(figsize=(8, 6))\n",
        "plt.xlim(0, 11)\n",
        "plt.ylim(0, 20)\n",
        "plt.fill_between(x, y_quantiles[0,:], y_quantiles[1,:], color=\"navajowhite\", alpha=0.7)\n",
        "plt.plot(x, m*x + c, color=\"red\")\n",
        "plt.errorbar(x_vals, y_vals, y_errs, ls=\"\", capsize=5, color=\"black\", lw=1)\n",
        "plt.scatter(x_vals, y_vals, color=\"blue\", lw=1, edgecolor=\"black\", zorder=10, s=50)\n",
        "plt.show()"
      ],
      "execution_count": 29,
      "outputs": [
        {
          "output_type": "display_data",
          "data": {
            "image/png": "[encoded data removed]",
            "text/plain": [
              "<Figure size 576x432 with 1 Axes>"
            ]
          },
          "metadata": {
            "tags": [],
            "needs_background": "light"
          }
        }
      ]
    },
    {
      "cell_type": "code",
      "metadata": {
        "id": "IXebbPyHr_nL",
        "colab_type": "code",
        "colab": {}
      },
      "source": [
        ""
      ],
      "execution_count": 0,
      "outputs": []
    }
  ]
}